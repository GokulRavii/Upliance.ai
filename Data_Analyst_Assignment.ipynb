{
  "nbformat": 4,
  "nbformat_minor": 0,
  "metadata": {
    "colab": {
      "provenance": []
    },
    "kernelspec": {
      "name": "python3",
      "display_name": "Python 3"
    },
    "language_info": {
      "name": "python"
    }
  },
  "cells": [
    {
      "cell_type": "markdown",
      "source": [
        "**Importing Libraries**"
      ],
      "metadata": {
        "id": "tFxXSupekToM"
      }
    },
    {
      "cell_type": "code",
      "execution_count": 35,
      "metadata": {
        "id": "_fjHcA5VfGad"
      },
      "outputs": [],
      "source": [
        "import pandas as pd\n",
        "import numpy as np\n",
        "import matplotlib.pyplot as plt"
      ]
    },
    {
      "cell_type": "code",
      "source": [
        "# Read the Assignment file\n",
        "file_path = '/content/Assignment.xlsx'\n",
        "xls = pd.ExcelFile(file_path)\n"
      ],
      "metadata": {
        "id": "XT_Ej4-pkfqc"
      },
      "execution_count": 36,
      "outputs": []
    },
    {
      "cell_type": "code",
      "source": [
        "sheet_names = xls.sheet_names\n",
        "sheet_names"
      ],
      "metadata": {
        "colab": {
          "base_uri": "https://localhost:8080/"
        },
        "id": "67MiZz23foOg",
        "outputId": "61f33a4e-911f-44c3-c075-eb97ce953948"
      },
      "execution_count": 37,
      "outputs": [
        {
          "output_type": "execute_result",
          "data": {
            "text/plain": [
              "['UserDetails.csv', 'CookingSessions.csv', 'OrderDetails.csv']"
            ]
          },
          "metadata": {},
          "execution_count": 37
        }
      ]
    },
    {
      "cell_type": "code",
      "source": [
        "# Load each sheet into separate DataFrames\n",
        "user_details = xls.parse('UserDetails.csv')\n",
        "cooking_sessions = xls.parse('CookingSessions.csv')\n",
        "order_details = xls.parse('OrderDetails.csv')\n",
        "\n",
        "print(user_details.head())\n",
        "print(cooking_sessions.head())\n",
        "print(order_details.head())"
      ],
      "metadata": {
        "colab": {
          "base_uri": "https://localhost:8080/"
        },
        "collapsed": true,
        "id": "hviypCbKf1tK",
        "outputId": "707d5561-9e79-4930-90a6-0c3a0bd72d25"
      },
      "execution_count": 38,
      "outputs": [
        {
          "output_type": "stream",
          "name": "stdout",
          "text": [
            "  User ID      User Name  Age       Location Registration Date         Phone  \\\n",
            "0    U001  Alice Johnson   28       New York        2023-01-15  123-456-7890   \n",
            "1    U002      Bob Smith   35    Los Angeles        2023-02-20  987-654-3210   \n",
            "2    U003    Charlie Lee   42        Chicago        2023-03-10  555-123-4567   \n",
            "3    U004    David Brown   27  San Francisco        2023-04-05  444-333-2222   \n",
            "4    U005     Emma White   30        Seattle        2023-05-22  777-888-9999   \n",
            "\n",
            "               Email Favorite Meal  Total Orders  \n",
            "0    alice@email.com        Dinner            12  \n",
            "1      bob@email.com         Lunch             8  \n",
            "2  charlie@email.com     Breakfast            15  \n",
            "3    david@email.com        Dinner            10  \n",
            "4     emma@email.com         Lunch             9  \n",
            "  Session ID User ID        Dish Name  Meal Type       Session Start  \\\n",
            "0       S001    U001        Spaghetti     Dinner 2024-12-01 19:00:00   \n",
            "1       S002    U002     Caesar Salad      Lunch 2024-12-01 12:00:00   \n",
            "2       S003    U003  Grilled Chicken     Dinner 2024-12-02 19:30:00   \n",
            "3       S004    U001         Pancakes  Breakfast 2024-12-02 07:30:00   \n",
            "4       S005    U004     Caesar Salad      Lunch 2024-12-03 13:00:00   \n",
            "\n",
            "          Session End  Duration (mins)  Session Rating  \n",
            "0 2024-12-01 19:30:00               30             4.5  \n",
            "1 2024-12-01 12:20:00               20             4.0  \n",
            "2 2024-12-02 20:10:00               40             4.8  \n",
            "3 2024-12-02 08:00:00               30             4.2  \n",
            "4 2024-12-03 13:15:00               15             4.7  \n",
            "   Order ID User ID Order Date  Meal Type        Dish Name Order Status  \\\n",
            "0      1001    U001 2024-12-01     Dinner        Spaghetti    Completed   \n",
            "1      1002    U002 2024-12-01      Lunch     Caesar Salad    Completed   \n",
            "2      1003    U003 2024-12-02     Dinner  Grilled Chicken     Canceled   \n",
            "3      1004    U001 2024-12-02  Breakfast         Pancakes    Completed   \n",
            "4      1005    U004 2024-12-03      Lunch     Caesar Salad    Completed   \n",
            "\n",
            "   Amount (USD) Time of Day  Rating Session ID  \n",
            "0          15.0       Night     5.0       S001  \n",
            "1          10.0         Day     4.0       S002  \n",
            "2          12.5       Night     NaN       S003  \n",
            "3           8.0     Morning     4.0       S004  \n",
            "4           9.0         Day     4.0       S005  \n"
          ]
        }
      ]
    },
    {
      "cell_type": "code",
      "source": [
        "# we will check for missing values in each dataset\n",
        "missing_values = {\n",
        "    \"UserDetails\": user_details.isnull().sum(),\n",
        "    \"CookingSessions\": cooking_sessions.isnull().sum(),\n",
        "    \"OrderDetails\": order_details.isnull().sum()\n",
        "}\n",
        "\n",
        "print(missing_values)\n"
      ],
      "metadata": {
        "colab": {
          "base_uri": "https://localhost:8080/"
        },
        "id": "2eDTUVcDgCCs",
        "outputId": "b0bfc375-e19c-47a5-a953-4343a9827709"
      },
      "execution_count": 39,
      "outputs": [
        {
          "output_type": "stream",
          "name": "stdout",
          "text": [
            "{'UserDetails': User ID              0\n",
            "User Name            0\n",
            "Age                  0\n",
            "Location             0\n",
            "Registration Date    0\n",
            "Phone                0\n",
            "Email                0\n",
            "Favorite Meal        0\n",
            "Total Orders         0\n",
            "dtype: int64, 'CookingSessions': Session ID         0\n",
            "User ID            0\n",
            "Dish Name          0\n",
            "Meal Type          0\n",
            "Session Start      0\n",
            "Session End        0\n",
            "Duration (mins)    0\n",
            "Session Rating     0\n",
            "dtype: int64, 'OrderDetails': Order ID        0\n",
            "User ID         0\n",
            "Order Date      0\n",
            "Meal Type       0\n",
            "Dish Name       0\n",
            "Order Status    0\n",
            "Amount (USD)    0\n",
            "Time of Day     0\n",
            "Rating          2\n",
            "Session ID      0\n",
            "dtype: int64}\n"
          ]
        }
      ]
    },
    {
      "cell_type": "markdown",
      "source": [
        "*We found 2 missing values in Rating column*"
      ],
      "metadata": {
        "id": "nS3-SuWmkuD9"
      }
    },
    {
      "cell_type": "code",
      "source": [
        "# we can fill the missing ratings in the OrderDetails with the mean rating\n",
        "order_details['Rating'].fillna(order_details['Rating'].mean(), inplace=True)\n",
        "\n",
        "print(order_details.isnull().sum())\n"
      ],
      "metadata": {
        "colab": {
          "base_uri": "https://localhost:8080/"
        },
        "id": "1kZO2ZHRgpT8",
        "outputId": "58c17bf7-ff15-4f74-a8d9-b675254be6ff"
      },
      "execution_count": 40,
      "outputs": [
        {
          "output_type": "stream",
          "name": "stdout",
          "text": [
            "Order ID        0\n",
            "User ID         0\n",
            "Order Date      0\n",
            "Meal Type       0\n",
            "Dish Name       0\n",
            "Order Status    0\n",
            "Amount (USD)    0\n",
            "Time of Day     0\n",
            "Rating          0\n",
            "Session ID      0\n",
            "dtype: int64\n"
          ]
        },
        {
          "output_type": "stream",
          "name": "stderr",
          "text": [
            "<ipython-input-40-46ae261bdf05>:2: FutureWarning: A value is trying to be set on a copy of a DataFrame or Series through chained assignment using an inplace method.\n",
            "The behavior will change in pandas 3.0. This inplace method will never work because the intermediate object on which we are setting values always behaves as a copy.\n",
            "\n",
            "For example, when doing 'df[col].method(value, inplace=True)', try using 'df.method({col: value}, inplace=True)' or df[col] = df[col].method(value) instead, to perform the operation inplace on the original object.\n",
            "\n",
            "\n",
            "  order_details['Rating'].fillna(order_details['Rating'].mean(), inplace=True)\n"
          ]
        }
      ]
    },
    {
      "cell_type": "code",
      "source": [
        "# Check the column names in both datasets\n",
        "print(order_sessions.columns)\n",
        "print(user_details.columns)\n"
      ],
      "metadata": {
        "colab": {
          "base_uri": "https://localhost:8080/"
        },
        "id": "u6snEhG_h5U2",
        "outputId": "3b775765-21c2-45d2-ab13-4865a58437f9"
      },
      "execution_count": 41,
      "outputs": [
        {
          "output_type": "stream",
          "name": "stdout",
          "text": [
            "Index(['Order ID', 'User ID', 'Order Date', 'Meal Type_x', 'Dish Name_x',\n",
            "       'Order Status', 'Amount (USD)', 'Time of Day', 'Rating', 'Session ID',\n",
            "       'User ID_y', 'Dish Name_y', 'Meal Type_y', 'Session Start',\n",
            "       'Session End', 'Duration (mins)', 'Session Rating'],\n",
            "      dtype='object')\n",
            "Index(['User ID', 'User Name', 'Age', 'Location', 'Registration Date', 'Phone',\n",
            "       'Email', 'Favorite Meal', 'Total Orders'],\n",
            "      dtype='object')\n"
          ]
        }
      ]
    },
    {
      "cell_type": "code",
      "source": [
        "order_sessions.head()"
      ],
      "metadata": {
        "colab": {
          "base_uri": "https://localhost:8080/",
          "height": 310
        },
        "id": "M6IU2ikHhHg2",
        "outputId": "e7df95e8-84e0-489f-b0b8-c63164ec3273"
      },
      "execution_count": 42,
      "outputs": [
        {
          "output_type": "execute_result",
          "data": {
            "text/plain": [
              "   Order ID User ID Order Date Meal Type_x      Dish Name_x Order Status  \\\n",
              "0      1001    U001 2024-12-01      Dinner        Spaghetti    Completed   \n",
              "1      1002    U002 2024-12-01       Lunch     Caesar Salad    Completed   \n",
              "2      1003    U003 2024-12-02      Dinner  Grilled Chicken     Canceled   \n",
              "3      1004    U001 2024-12-02   Breakfast         Pancakes    Completed   \n",
              "4      1005    U004 2024-12-03       Lunch     Caesar Salad    Completed   \n",
              "\n",
              "   Amount (USD) Time of Day    Rating Session ID User ID_y      Dish Name_y  \\\n",
              "0          15.0       Night  5.000000       S001      U001        Spaghetti   \n",
              "1          10.0         Day  4.000000       S002      U002     Caesar Salad   \n",
              "2          12.5       Night  4.285714       S003      U003  Grilled Chicken   \n",
              "3           8.0     Morning  4.000000       S004      U001         Pancakes   \n",
              "4           9.0         Day  4.000000       S005      U004     Caesar Salad   \n",
              "\n",
              "  Meal Type_y       Session Start         Session End  Duration (mins)  \\\n",
              "0      Dinner 2024-12-01 19:00:00 2024-12-01 19:30:00               30   \n",
              "1       Lunch 2024-12-01 12:00:00 2024-12-01 12:20:00               20   \n",
              "2      Dinner 2024-12-02 19:30:00 2024-12-02 20:10:00               40   \n",
              "3   Breakfast 2024-12-02 07:30:00 2024-12-02 08:00:00               30   \n",
              "4       Lunch 2024-12-03 13:00:00 2024-12-03 13:15:00               15   \n",
              "\n",
              "   Session Rating  \n",
              "0             4.5  \n",
              "1             4.0  \n",
              "2             4.8  \n",
              "3             4.2  \n",
              "4             4.7  "
            ],
            "text/html": [
              "\n",
              "  <div id=\"df-e2659342-50e9-47f6-b975-9f8b0e437d86\" class=\"colab-df-container\">\n",
              "    <div>\n",
              "<style scoped>\n",
              "    .dataframe tbody tr th:only-of-type {\n",
              "        vertical-align: middle;\n",
              "    }\n",
              "\n",
              "    .dataframe tbody tr th {\n",
              "        vertical-align: top;\n",
              "    }\n",
              "\n",
              "    .dataframe thead th {\n",
              "        text-align: right;\n",
              "    }\n",
              "</style>\n",
              "<table border=\"1\" class=\"dataframe\">\n",
              "  <thead>\n",
              "    <tr style=\"text-align: right;\">\n",
              "      <th></th>\n",
              "      <th>Order ID</th>\n",
              "      <th>User ID</th>\n",
              "      <th>Order Date</th>\n",
              "      <th>Meal Type_x</th>\n",
              "      <th>Dish Name_x</th>\n",
              "      <th>Order Status</th>\n",
              "      <th>Amount (USD)</th>\n",
              "      <th>Time of Day</th>\n",
              "      <th>Rating</th>\n",
              "      <th>Session ID</th>\n",
              "      <th>User ID_y</th>\n",
              "      <th>Dish Name_y</th>\n",
              "      <th>Meal Type_y</th>\n",
              "      <th>Session Start</th>\n",
              "      <th>Session End</th>\n",
              "      <th>Duration (mins)</th>\n",
              "      <th>Session Rating</th>\n",
              "    </tr>\n",
              "  </thead>\n",
              "  <tbody>\n",
              "    <tr>\n",
              "      <th>0</th>\n",
              "      <td>1001</td>\n",
              "      <td>U001</td>\n",
              "      <td>2024-12-01</td>\n",
              "      <td>Dinner</td>\n",
              "      <td>Spaghetti</td>\n",
              "      <td>Completed</td>\n",
              "      <td>15.0</td>\n",
              "      <td>Night</td>\n",
              "      <td>5.000000</td>\n",
              "      <td>S001</td>\n",
              "      <td>U001</td>\n",
              "      <td>Spaghetti</td>\n",
              "      <td>Dinner</td>\n",
              "      <td>2024-12-01 19:00:00</td>\n",
              "      <td>2024-12-01 19:30:00</td>\n",
              "      <td>30</td>\n",
              "      <td>4.5</td>\n",
              "    </tr>\n",
              "    <tr>\n",
              "      <th>1</th>\n",
              "      <td>1002</td>\n",
              "      <td>U002</td>\n",
              "      <td>2024-12-01</td>\n",
              "      <td>Lunch</td>\n",
              "      <td>Caesar Salad</td>\n",
              "      <td>Completed</td>\n",
              "      <td>10.0</td>\n",
              "      <td>Day</td>\n",
              "      <td>4.000000</td>\n",
              "      <td>S002</td>\n",
              "      <td>U002</td>\n",
              "      <td>Caesar Salad</td>\n",
              "      <td>Lunch</td>\n",
              "      <td>2024-12-01 12:00:00</td>\n",
              "      <td>2024-12-01 12:20:00</td>\n",
              "      <td>20</td>\n",
              "      <td>4.0</td>\n",
              "    </tr>\n",
              "    <tr>\n",
              "      <th>2</th>\n",
              "      <td>1003</td>\n",
              "      <td>U003</td>\n",
              "      <td>2024-12-02</td>\n",
              "      <td>Dinner</td>\n",
              "      <td>Grilled Chicken</td>\n",
              "      <td>Canceled</td>\n",
              "      <td>12.5</td>\n",
              "      <td>Night</td>\n",
              "      <td>4.285714</td>\n",
              "      <td>S003</td>\n",
              "      <td>U003</td>\n",
              "      <td>Grilled Chicken</td>\n",
              "      <td>Dinner</td>\n",
              "      <td>2024-12-02 19:30:00</td>\n",
              "      <td>2024-12-02 20:10:00</td>\n",
              "      <td>40</td>\n",
              "      <td>4.8</td>\n",
              "    </tr>\n",
              "    <tr>\n",
              "      <th>3</th>\n",
              "      <td>1004</td>\n",
              "      <td>U001</td>\n",
              "      <td>2024-12-02</td>\n",
              "      <td>Breakfast</td>\n",
              "      <td>Pancakes</td>\n",
              "      <td>Completed</td>\n",
              "      <td>8.0</td>\n",
              "      <td>Morning</td>\n",
              "      <td>4.000000</td>\n",
              "      <td>S004</td>\n",
              "      <td>U001</td>\n",
              "      <td>Pancakes</td>\n",
              "      <td>Breakfast</td>\n",
              "      <td>2024-12-02 07:30:00</td>\n",
              "      <td>2024-12-02 08:00:00</td>\n",
              "      <td>30</td>\n",
              "      <td>4.2</td>\n",
              "    </tr>\n",
              "    <tr>\n",
              "      <th>4</th>\n",
              "      <td>1005</td>\n",
              "      <td>U004</td>\n",
              "      <td>2024-12-03</td>\n",
              "      <td>Lunch</td>\n",
              "      <td>Caesar Salad</td>\n",
              "      <td>Completed</td>\n",
              "      <td>9.0</td>\n",
              "      <td>Day</td>\n",
              "      <td>4.000000</td>\n",
              "      <td>S005</td>\n",
              "      <td>U004</td>\n",
              "      <td>Caesar Salad</td>\n",
              "      <td>Lunch</td>\n",
              "      <td>2024-12-03 13:00:00</td>\n",
              "      <td>2024-12-03 13:15:00</td>\n",
              "      <td>15</td>\n",
              "      <td>4.7</td>\n",
              "    </tr>\n",
              "  </tbody>\n",
              "</table>\n",
              "</div>\n",
              "    <div class=\"colab-df-buttons\">\n",
              "\n",
              "  <div class=\"colab-df-container\">\n",
              "    <button class=\"colab-df-convert\" onclick=\"convertToInteractive('df-e2659342-50e9-47f6-b975-9f8b0e437d86')\"\n",
              "            title=\"Convert this dataframe to an interactive table.\"\n",
              "            style=\"display:none;\">\n",
              "\n",
              "  <svg xmlns=\"http://www.w3.org/2000/svg\" height=\"24px\" viewBox=\"0 -960 960 960\">\n",
              "    <path d=\"M120-120v-720h720v720H120Zm60-500h600v-160H180v160Zm220 220h160v-160H400v160Zm0 220h160v-160H400v160ZM180-400h160v-160H180v160Zm440 0h160v-160H620v160ZM180-180h160v-160H180v160Zm440 0h160v-160H620v160Z\"/>\n",
              "  </svg>\n",
              "    </button>\n",
              "\n",
              "  <style>\n",
              "    .colab-df-container {\n",
              "      display:flex;\n",
              "      gap: 12px;\n",
              "    }\n",
              "\n",
              "    .colab-df-convert {\n",
              "      background-color: #E8F0FE;\n",
              "      border: none;\n",
              "      border-radius: 50%;\n",
              "      cursor: pointer;\n",
              "      display: none;\n",
              "      fill: #1967D2;\n",
              "      height: 32px;\n",
              "      padding: 0 0 0 0;\n",
              "      width: 32px;\n",
              "    }\n",
              "\n",
              "    .colab-df-convert:hover {\n",
              "      background-color: #E2EBFA;\n",
              "      box-shadow: 0px 1px 2px rgba(60, 64, 67, 0.3), 0px 1px 3px 1px rgba(60, 64, 67, 0.15);\n",
              "      fill: #174EA6;\n",
              "    }\n",
              "\n",
              "    .colab-df-buttons div {\n",
              "      margin-bottom: 4px;\n",
              "    }\n",
              "\n",
              "    [theme=dark] .colab-df-convert {\n",
              "      background-color: #3B4455;\n",
              "      fill: #D2E3FC;\n",
              "    }\n",
              "\n",
              "    [theme=dark] .colab-df-convert:hover {\n",
              "      background-color: #434B5C;\n",
              "      box-shadow: 0px 1px 3px 1px rgba(0, 0, 0, 0.15);\n",
              "      filter: drop-shadow(0px 1px 2px rgba(0, 0, 0, 0.3));\n",
              "      fill: #FFFFFF;\n",
              "    }\n",
              "  </style>\n",
              "\n",
              "    <script>\n",
              "      const buttonEl =\n",
              "        document.querySelector('#df-e2659342-50e9-47f6-b975-9f8b0e437d86 button.colab-df-convert');\n",
              "      buttonEl.style.display =\n",
              "        google.colab.kernel.accessAllowed ? 'block' : 'none';\n",
              "\n",
              "      async function convertToInteractive(key) {\n",
              "        const element = document.querySelector('#df-e2659342-50e9-47f6-b975-9f8b0e437d86');\n",
              "        const dataTable =\n",
              "          await google.colab.kernel.invokeFunction('convertToInteractive',\n",
              "                                                    [key], {});\n",
              "        if (!dataTable) return;\n",
              "\n",
              "        const docLinkHtml = 'Like what you see? Visit the ' +\n",
              "          '<a target=\"_blank\" href=https://colab.research.google.com/notebooks/data_table.ipynb>data table notebook</a>'\n",
              "          + ' to learn more about interactive tables.';\n",
              "        element.innerHTML = '';\n",
              "        dataTable['output_type'] = 'display_data';\n",
              "        await google.colab.output.renderOutput(dataTable, element);\n",
              "        const docLink = document.createElement('div');\n",
              "        docLink.innerHTML = docLinkHtml;\n",
              "        element.appendChild(docLink);\n",
              "      }\n",
              "    </script>\n",
              "  </div>\n",
              "\n",
              "\n",
              "<div id=\"df-0126c6ee-1779-47b9-a488-b4444f95d22a\">\n",
              "  <button class=\"colab-df-quickchart\" onclick=\"quickchart('df-0126c6ee-1779-47b9-a488-b4444f95d22a')\"\n",
              "            title=\"Suggest charts\"\n",
              "            style=\"display:none;\">\n",
              "\n",
              "<svg xmlns=\"http://www.w3.org/2000/svg\" height=\"24px\"viewBox=\"0 0 24 24\"\n",
              "     width=\"24px\">\n",
              "    <g>\n",
              "        <path d=\"M19 3H5c-1.1 0-2 .9-2 2v14c0 1.1.9 2 2 2h14c1.1 0 2-.9 2-2V5c0-1.1-.9-2-2-2zM9 17H7v-7h2v7zm4 0h-2V7h2v10zm4 0h-2v-4h2v4z\"/>\n",
              "    </g>\n",
              "</svg>\n",
              "  </button>\n",
              "\n",
              "<style>\n",
              "  .colab-df-quickchart {\n",
              "      --bg-color: #E8F0FE;\n",
              "      --fill-color: #1967D2;\n",
              "      --hover-bg-color: #E2EBFA;\n",
              "      --hover-fill-color: #174EA6;\n",
              "      --disabled-fill-color: #AAA;\n",
              "      --disabled-bg-color: #DDD;\n",
              "  }\n",
              "\n",
              "  [theme=dark] .colab-df-quickchart {\n",
              "      --bg-color: #3B4455;\n",
              "      --fill-color: #D2E3FC;\n",
              "      --hover-bg-color: #434B5C;\n",
              "      --hover-fill-color: #FFFFFF;\n",
              "      --disabled-bg-color: #3B4455;\n",
              "      --disabled-fill-color: #666;\n",
              "  }\n",
              "\n",
              "  .colab-df-quickchart {\n",
              "    background-color: var(--bg-color);\n",
              "    border: none;\n",
              "    border-radius: 50%;\n",
              "    cursor: pointer;\n",
              "    display: none;\n",
              "    fill: var(--fill-color);\n",
              "    height: 32px;\n",
              "    padding: 0;\n",
              "    width: 32px;\n",
              "  }\n",
              "\n",
              "  .colab-df-quickchart:hover {\n",
              "    background-color: var(--hover-bg-color);\n",
              "    box-shadow: 0 1px 2px rgba(60, 64, 67, 0.3), 0 1px 3px 1px rgba(60, 64, 67, 0.15);\n",
              "    fill: var(--button-hover-fill-color);\n",
              "  }\n",
              "\n",
              "  .colab-df-quickchart-complete:disabled,\n",
              "  .colab-df-quickchart-complete:disabled:hover {\n",
              "    background-color: var(--disabled-bg-color);\n",
              "    fill: var(--disabled-fill-color);\n",
              "    box-shadow: none;\n",
              "  }\n",
              "\n",
              "  .colab-df-spinner {\n",
              "    border: 2px solid var(--fill-color);\n",
              "    border-color: transparent;\n",
              "    border-bottom-color: var(--fill-color);\n",
              "    animation:\n",
              "      spin 1s steps(1) infinite;\n",
              "  }\n",
              "\n",
              "  @keyframes spin {\n",
              "    0% {\n",
              "      border-color: transparent;\n",
              "      border-bottom-color: var(--fill-color);\n",
              "      border-left-color: var(--fill-color);\n",
              "    }\n",
              "    20% {\n",
              "      border-color: transparent;\n",
              "      border-left-color: var(--fill-color);\n",
              "      border-top-color: var(--fill-color);\n",
              "    }\n",
              "    30% {\n",
              "      border-color: transparent;\n",
              "      border-left-color: var(--fill-color);\n",
              "      border-top-color: var(--fill-color);\n",
              "      border-right-color: var(--fill-color);\n",
              "    }\n",
              "    40% {\n",
              "      border-color: transparent;\n",
              "      border-right-color: var(--fill-color);\n",
              "      border-top-color: var(--fill-color);\n",
              "    }\n",
              "    60% {\n",
              "      border-color: transparent;\n",
              "      border-right-color: var(--fill-color);\n",
              "    }\n",
              "    80% {\n",
              "      border-color: transparent;\n",
              "      border-right-color: var(--fill-color);\n",
              "      border-bottom-color: var(--fill-color);\n",
              "    }\n",
              "    90% {\n",
              "      border-color: transparent;\n",
              "      border-bottom-color: var(--fill-color);\n",
              "    }\n",
              "  }\n",
              "</style>\n",
              "\n",
              "  <script>\n",
              "    async function quickchart(key) {\n",
              "      const quickchartButtonEl =\n",
              "        document.querySelector('#' + key + ' button');\n",
              "      quickchartButtonEl.disabled = true;  // To prevent multiple clicks.\n",
              "      quickchartButtonEl.classList.add('colab-df-spinner');\n",
              "      try {\n",
              "        const charts = await google.colab.kernel.invokeFunction(\n",
              "            'suggestCharts', [key], {});\n",
              "      } catch (error) {\n",
              "        console.error('Error during call to suggestCharts:', error);\n",
              "      }\n",
              "      quickchartButtonEl.classList.remove('colab-df-spinner');\n",
              "      quickchartButtonEl.classList.add('colab-df-quickchart-complete');\n",
              "    }\n",
              "    (() => {\n",
              "      let quickchartButtonEl =\n",
              "        document.querySelector('#df-0126c6ee-1779-47b9-a488-b4444f95d22a button');\n",
              "      quickchartButtonEl.style.display =\n",
              "        google.colab.kernel.accessAllowed ? 'block' : 'none';\n",
              "    })();\n",
              "  </script>\n",
              "</div>\n",
              "\n",
              "    </div>\n",
              "  </div>\n"
            ],
            "application/vnd.google.colaboratory.intrinsic+json": {
              "type": "dataframe",
              "variable_name": "order_sessions",
              "summary": "{\n  \"name\": \"order_sessions\",\n  \"rows\": 16,\n  \"fields\": [\n    {\n      \"column\": \"Order ID\",\n      \"properties\": {\n        \"dtype\": \"number\",\n        \"std\": 4,\n        \"min\": 1001,\n        \"max\": 1016,\n        \"num_unique_values\": 16,\n        \"samples\": [\n          1001,\n          1002,\n          1006\n        ],\n        \"semantic_type\": \"\",\n        \"description\": \"\"\n      }\n    },\n    {\n      \"column\": \"User ID\",\n      \"properties\": {\n        \"dtype\": \"string\",\n        \"num_unique_values\": 8,\n        \"samples\": [\n          \"U002\",\n          \"U006\",\n          \"U001\"\n        ],\n        \"semantic_type\": \"\",\n        \"description\": \"\"\n      }\n    },\n    {\n      \"column\": \"Order Date\",\n      \"properties\": {\n        \"dtype\": \"date\",\n        \"min\": \"2024-12-01 00:00:00\",\n        \"max\": \"2024-12-08 00:00:00\",\n        \"num_unique_values\": 8,\n        \"samples\": [\n          \"2024-12-02 00:00:00\",\n          \"2024-12-06 00:00:00\",\n          \"2024-12-01 00:00:00\"\n        ],\n        \"semantic_type\": \"\",\n        \"description\": \"\"\n      }\n    },\n    {\n      \"column\": \"Meal Type_x\",\n      \"properties\": {\n        \"dtype\": \"category\",\n        \"num_unique_values\": 3,\n        \"samples\": [\n          \"Dinner\",\n          \"Lunch\",\n          \"Breakfast\"\n        ],\n        \"semantic_type\": \"\",\n        \"description\": \"\"\n      }\n    },\n    {\n      \"column\": \"Dish Name_x\",\n      \"properties\": {\n        \"dtype\": \"category\",\n        \"num_unique_values\": 6,\n        \"samples\": [\n          \"Spaghetti\",\n          \"Caesar Salad\",\n          \"Oatmeal\"\n        ],\n        \"semantic_type\": \"\",\n        \"description\": \"\"\n      }\n    },\n    {\n      \"column\": \"Order Status\",\n      \"properties\": {\n        \"dtype\": \"category\",\n        \"num_unique_values\": 2,\n        \"samples\": [\n          \"Canceled\",\n          \"Completed\"\n        ],\n        \"semantic_type\": \"\",\n        \"description\": \"\"\n      }\n    },\n    {\n      \"column\": \"Amount (USD)\",\n      \"properties\": {\n        \"dtype\": \"number\",\n        \"std\": 2.4358434541926814,\n        \"min\": 7.0,\n        \"max\": 15.0,\n        \"num_unique_values\": 12,\n        \"samples\": [\n          8.5,\n          7.0\n        ],\n        \"semantic_type\": \"\",\n        \"description\": \"\"\n      }\n    },\n    {\n      \"column\": \"Time of Day\",\n      \"properties\": {\n        \"dtype\": \"category\",\n        \"num_unique_values\": 3,\n        \"samples\": [\n          \"Night\",\n          \"Day\"\n        ],\n        \"semantic_type\": \"\",\n        \"description\": \"\"\n      }\n    },\n    {\n      \"column\": \"Rating\",\n      \"properties\": {\n        \"dtype\": \"number\",\n        \"std\": 0.4364357804719848,\n        \"min\": 4.0,\n        \"max\": 5.0,\n        \"num_unique_values\": 3,\n        \"samples\": [\n          5.0,\n          4.0\n        ],\n        \"semantic_type\": \"\",\n        \"description\": \"\"\n      }\n    },\n    {\n      \"column\": \"Session ID\",\n      \"properties\": {\n        \"dtype\": \"string\",\n        \"num_unique_values\": 16,\n        \"samples\": [\n          \"S001\",\n          \"S002\"\n        ],\n        \"semantic_type\": \"\",\n        \"description\": \"\"\n      }\n    },\n    {\n      \"column\": \"User ID_y\",\n      \"properties\": {\n        \"dtype\": \"string\",\n        \"num_unique_values\": 8,\n        \"samples\": [\n          \"U002\",\n          \"U006\"\n        ],\n        \"semantic_type\": \"\",\n        \"description\": \"\"\n      }\n    },\n    {\n      \"column\": \"Dish Name_y\",\n      \"properties\": {\n        \"dtype\": \"category\",\n        \"num_unique_values\": 6,\n        \"samples\": [\n          \"Spaghetti\",\n          \"Caesar Salad\"\n        ],\n        \"semantic_type\": \"\",\n        \"description\": \"\"\n      }\n    },\n    {\n      \"column\": \"Meal Type_y\",\n      \"properties\": {\n        \"dtype\": \"category\",\n        \"num_unique_values\": 3,\n        \"samples\": [\n          \"Dinner\",\n          \"Lunch\"\n        ],\n        \"semantic_type\": \"\",\n        \"description\": \"\"\n      }\n    },\n    {\n      \"column\": \"Session Start\",\n      \"properties\": {\n        \"dtype\": \"date\",\n        \"min\": \"2024-12-01 12:00:00\",\n        \"max\": \"2024-12-08 19:30:00\",\n        \"num_unique_values\": 16,\n        \"samples\": [\n          \"2024-12-01 19:00:00\",\n          \"2024-12-01 12:00:00\"\n        ],\n        \"semantic_type\": \"\",\n        \"description\": \"\"\n      }\n    },\n    {\n      \"column\": \"Session End\",\n      \"properties\": {\n        \"dtype\": \"date\",\n        \"min\": \"2024-12-01 12:20:00\",\n        \"max\": \"2024-12-08 20:10:00\",\n        \"num_unique_values\": 16,\n        \"samples\": [\n          \"2024-12-01 19:30:00\",\n          \"2024-12-01 12:20:00\"\n        ],\n        \"semantic_type\": \"\",\n        \"description\": \"\"\n      }\n    },\n    {\n      \"column\": \"Duration (mins)\",\n      \"properties\": {\n        \"dtype\": \"number\",\n        \"std\": 10,\n        \"min\": 10,\n        \"max\": 45,\n        \"num_unique_values\": 6,\n        \"samples\": [\n          30,\n          20\n        ],\n        \"semantic_type\": \"\",\n        \"description\": \"\"\n      }\n    },\n    {\n      \"column\": \"Session Rating\",\n      \"properties\": {\n        \"dtype\": \"number\",\n        \"std\": 0.2926174977679906,\n        \"min\": 4.0,\n        \"max\": 5.0,\n        \"num_unique_values\": 11,\n        \"samples\": [\n          4.3,\n          4.5\n        ],\n        \"semantic_type\": \"\",\n        \"description\": \"\"\n      }\n    }\n  ]\n}"
            }
          },
          "metadata": {},
          "execution_count": 42
        }
      ]
    },
    {
      "cell_type": "markdown",
      "source": [
        "**We will merge the three columns together**"
      ],
      "metadata": {
        "id": "PWnALAWBlfl9"
      }
    },
    {
      "cell_type": "code",
      "source": [
        "# here we want to rename 'User ID_x' or 'User ID_y' to 'User ID', because common column name shoud be same for joining purpose\n",
        "order_sessions.rename(columns={'User ID_x': 'User ID'}, inplace=True)\n",
        "\n",
        "merged_data = pd.merge(order_sessions, user_details, on='User ID')\n",
        "\n",
        "print(merged_data.head())\n"
      ],
      "metadata": {
        "colab": {
          "base_uri": "https://localhost:8080/"
        },
        "id": "CALVZU0TiUZo",
        "outputId": "1531d2fa-e5c8-49b4-c9a7-b4089b412bd1"
      },
      "execution_count": 43,
      "outputs": [
        {
          "output_type": "stream",
          "name": "stdout",
          "text": [
            "   Order ID User ID Order Date Meal Type_x      Dish Name_x Order Status  \\\n",
            "0      1001    U001 2024-12-01      Dinner        Spaghetti    Completed   \n",
            "1      1002    U002 2024-12-01       Lunch     Caesar Salad    Completed   \n",
            "2      1003    U003 2024-12-02      Dinner  Grilled Chicken     Canceled   \n",
            "3      1004    U001 2024-12-02   Breakfast         Pancakes    Completed   \n",
            "4      1005    U004 2024-12-03       Lunch     Caesar Salad    Completed   \n",
            "\n",
            "   Amount (USD) Time of Day    Rating Session ID  ... Duration (mins)  \\\n",
            "0          15.0       Night  5.000000       S001  ...              30   \n",
            "1          10.0         Day  4.000000       S002  ...              20   \n",
            "2          12.5       Night  4.285714       S003  ...              40   \n",
            "3           8.0     Morning  4.000000       S004  ...              30   \n",
            "4           9.0         Day  4.000000       S005  ...              15   \n",
            "\n",
            "  Session Rating      User Name Age       Location  Registration Date  \\\n",
            "0            4.5  Alice Johnson  28       New York         2023-01-15   \n",
            "1            4.0      Bob Smith  35    Los Angeles         2023-02-20   \n",
            "2            4.8    Charlie Lee  42        Chicago         2023-03-10   \n",
            "3            4.2  Alice Johnson  28       New York         2023-01-15   \n",
            "4            4.7    David Brown  27  San Francisco         2023-04-05   \n",
            "\n",
            "          Phone              Email  Favorite Meal Total Orders  \n",
            "0  123-456-7890    alice@email.com         Dinner           12  \n",
            "1  987-654-3210      bob@email.com          Lunch            8  \n",
            "2  555-123-4567  charlie@email.com      Breakfast           15  \n",
            "3  123-456-7890    alice@email.com         Dinner           12  \n",
            "4  444-333-2222    david@email.com         Dinner           10  \n",
            "\n",
            "[5 rows x 25 columns]\n"
          ]
        }
      ]
    },
    {
      "cell_type": "markdown",
      "source": [
        "**Analyzing the Relationship between Cooking Sessions and User Orders**"
      ],
      "metadata": {
        "id": "A76gYRJsjGOQ"
      }
    },
    {
      "cell_type": "code",
      "source": [
        "# Check how often users order dishes they have cooked\n",
        "ordered_cooked_data = merged_data[merged_data['Dish Name_x'] == merged_data['Dish Name_y']]\n",
        "\n",
        "total_orders = len(merged_data)\n",
        "matched_orders = len(ordered_cooked_data)\n",
        "percentage_matched = (matched_orders / total_orders) * 100\n",
        "\n",
        "print(f\"{percentage_matched:.2f}% of orders are for dishes that users have cooked.\")\n"
      ],
      "metadata": {
        "colab": {
          "base_uri": "https://localhost:8080/"
        },
        "id": "0C39gFkDjJ6V",
        "outputId": "f96b6cd5-bb77-4f28-e77e-3544e17989c4"
      },
      "execution_count": 44,
      "outputs": [
        {
          "output_type": "stream",
          "name": "stdout",
          "text": [
            "100.00% of orders are for dishes that users have cooked.\n"
          ]
        }
      ]
    },
    {
      "cell_type": "markdown",
      "source": [
        "**Identifying Popular Dishes**"
      ],
      "metadata": {
        "id": "Meq1MfAXjTly"
      }
    },
    {
      "cell_type": "code",
      "source": [
        "# here we will analyze popular dishes based on orders and cooking sessions\n",
        "popular_dishes_orders = merged_data['Dish Name_x'].value_counts().head(10)\n",
        "print(\"Top 10 most popular dishes based on orders:\")\n",
        "print(popular_dishes_orders)\n",
        "\n",
        "popular_dishes_cooked = merged_data['Dish Name_y'].value_counts().head(10)\n",
        "print(\"Top 10 most popular dishes based on cooking sessions:\")\n",
        "print(popular_dishes_cooked)\n"
      ],
      "metadata": {
        "colab": {
          "base_uri": "https://localhost:8080/"
        },
        "id": "CkET_z1wjWm1",
        "outputId": "eb220a9f-2273-4d83-c999-dafd5059e3ce"
      },
      "execution_count": 45,
      "outputs": [
        {
          "output_type": "stream",
          "name": "stdout",
          "text": [
            "Top 10 most popular dishes based on orders:\n",
            "Dish Name_x\n",
            "Spaghetti          4\n",
            "Grilled Chicken    4\n",
            "Caesar Salad       3\n",
            "Pancakes           2\n",
            "Veggie Burger      2\n",
            "Oatmeal            1\n",
            "Name: count, dtype: int64\n",
            "Top 10 most popular dishes based on cooking sessions:\n",
            "Dish Name_y\n",
            "Spaghetti          4\n",
            "Grilled Chicken    4\n",
            "Caesar Salad       3\n",
            "Pancakes           2\n",
            "Veggie Burger      2\n",
            "Oatmeal            1\n",
            "Name: count, dtype: int64\n"
          ]
        }
      ]
    },
    {
      "cell_type": "markdown",
      "source": [
        "**Exploring Demographic Factors Influencing User Behavior**"
      ],
      "metadata": {
        "id": "hqcMR2cCjpvo"
      }
    },
    {
      "cell_type": "code",
      "source": [
        "# Analyze dish preferences by age group\n",
        "age_groups = pd.cut(merged_data['Age'], bins=[18, 25, 35, 50, 65, 100], labels=['18-25', '26-35', '36-50', '51-65', '65+'])\n",
        "age_dish_preferences = merged_data.groupby(age_groups)['Dish Name_x'].value_counts().groupby(level=0).head(3)\n",
        "print(\"Top 3 popular dishes by age group:\")\n",
        "print(age_dish_preferences)\n",
        "\n",
        "# Analyze favorite meal types by location\n",
        "location_meal_preferences = merged_data.groupby('Location')['Meal Type_x'].value_counts().groupby(level=0).head(1)\n",
        "print(\"Most popular meal type by location:\")\n",
        "print(location_meal_preferences)\n"
      ],
      "metadata": {
        "colab": {
          "base_uri": "https://localhost:8080/"
        },
        "id": "BmZt4PHBjkjJ",
        "outputId": "77787b2e-d2fc-423f-f2b5-3c2301f7971f"
      },
      "execution_count": 46,
      "outputs": [
        {
          "output_type": "stream",
          "name": "stdout",
          "text": [
            "Top 3 popular dishes by age group:\n",
            "Age    Dish Name_x    \n",
            "18-25  Grilled Chicken    1\n",
            "       Caesar Salad       0\n",
            "       Oatmeal            0\n",
            "26-35  Caesar Salad       3\n",
            "       Spaghetti          3\n",
            "       Grilled Chicken    2\n",
            "36-50  Grilled Chicken    1\n",
            "       Pancakes           1\n",
            "       Spaghetti          1\n",
            "51-65  Caesar Salad       0\n",
            "       Grilled Chicken    0\n",
            "       Oatmeal            0\n",
            "65+    Caesar Salad       0\n",
            "       Grilled Chicken    0\n",
            "       Oatmeal            0\n",
            "Name: count, dtype: int64\n",
            "Most popular meal type by location:\n",
            "Location       Meal Type_x\n",
            "Austin         Dinner         1\n",
            "Boston         Dinner         1\n",
            "Chicago        Breakfast      1\n",
            "Los Angeles    Breakfast      1\n",
            "Miami          Lunch          1\n",
            "New York       Dinner         2\n",
            "San Francisco  Dinner         1\n",
            "Seattle        Dinner         1\n",
            "Name: count, dtype: int64\n"
          ]
        },
        {
          "output_type": "stream",
          "name": "stderr",
          "text": [
            "<ipython-input-46-4cdc2c4f0954>:3: FutureWarning: The default of observed=False is deprecated and will be changed to True in a future version of pandas. Pass observed=False to retain current behavior or observed=True to adopt the future default and silence this warning.\n",
            "  age_dish_preferences = merged_data.groupby(age_groups)['Dish Name_x'].value_counts().groupby(level=0).head(3)\n",
            "<ipython-input-46-4cdc2c4f0954>:3: FutureWarning: The default of observed=False is deprecated and will be changed to True in a future version of pandas. Pass observed=False to retain current behavior or observed=True to adopt the future default and silence this warning.\n",
            "  age_dish_preferences = merged_data.groupby(age_groups)['Dish Name_x'].value_counts().groupby(level=0).head(3)\n"
          ]
        }
      ]
    },
    {
      "cell_type": "markdown",
      "source": [
        "**visualizations to showcase key insights**"
      ],
      "metadata": {
        "id": "ULuUsE9vj5Ek"
      }
    },
    {
      "cell_type": "code",
      "source": [
        "# Popular dishes based on orders\n",
        "plt.figure(figsize=(10, 6))\n",
        "popular_dishes_orders.plot(kind='bar', color='skyblue')\n",
        "plt.title('Top 10 Most Popular Dishes Based on Orders')\n",
        "plt.xlabel('Dish Name')\n",
        "plt.ylabel('Number of Orders')\n",
        "plt.xticks(rotation=45, ha='right')\n",
        "plt.tight_layout()\n",
        "plt.show()\n",
        "\n",
        "# Popular dishes based on cooking sessions\n",
        "plt.figure(figsize=(10, 6))\n",
        "popular_dishes_cooked.plot(kind='bar', color='lightgreen')\n",
        "plt.title('Top 10 Most Popular Dishes Based on Cooking Sessions')\n",
        "plt.xlabel('Dish Name')\n",
        "plt.ylabel('Number of Cooking Sessions')\n",
        "plt.xticks(rotation=45, ha='right')\n",
        "plt.tight_layout()\n",
        "plt.show()\n",
        "\n",
        "# Dish preferences by age group\n",
        "plt.figure(figsize=(10, 6))\n",
        "age_dish_preferences.unstack().plot(kind='bar', stacked=True, colormap='coolwarm')\n",
        "plt.title('Top 3 Popular Dishes by Age Group')\n",
        "plt.xlabel('Age Group')\n",
        "plt.ylabel('Number of Orders')\n",
        "plt.legend(title=\"Dish Name\")\n",
        "plt.tight_layout()\n",
        "plt.show()\n"
      ],
      "metadata": {
        "colab": {
          "base_uri": "https://localhost:8080/",
          "height": 1000
        },
        "id": "st7opZ4pjyQk",
        "outputId": "52ebfe72-d918-481e-b4f8-743c247a7a3c"
      },
      "execution_count": 47,
      "outputs": [
        {
          "output_type": "display_data",
          "data": {
            "text/plain": [
              "<Figure size 1000x600 with 1 Axes>"
            ],
            "image/png": "[encoded data removed]"
          },
          "metadata": {}
        },
        {
          "output_type": "display_data",
          "data": {
            "text/plain": [
              "<Figure size 1000x600 with 1 Axes>"
            ],
            "image/png": "[encoded data removed]"
          },
          "metadata": {}
        },
        {
          "output_type": "display_data",
          "data": {
            "text/plain": [
              "<Figure size 1000x600 with 0 Axes>"
            ]
          },
          "metadata": {}
        },
        {
          "output_type": "display_data",
          "data": {
            "text/plain": [
              "<Figure size 640x480 with 1 Axes>"
            ],
            "image/png": "[encoded data removed]"
          },
          "metadata": {}
        }
      ]
    },
    {
      "cell_type": "code",
      "source": [
        "# we can save the merged data to a CSV file\n",
        "merged_data.to_csv('merged_data.csv', index=False)\n",
        "\n",
        "\n",
        "user_details.to_csv('cleaned_user_details.csv', index=False)\n",
        "cooking_sessions.to_csv('cleaned_cooking_sessions.csv', index=False)\n",
        "order_details.to_csv('cleaned_order_details.csv', index=False)\n"
      ],
      "metadata": {
        "id": "dEDW_n6pkAGv"
      },
      "execution_count": 48,
      "outputs": []
    }
  ]
}